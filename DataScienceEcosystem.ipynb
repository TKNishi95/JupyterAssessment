{
 "cells": [
  {
   "cell_type": "markdown",
   "id": "9720165f-accb-43d7-830a-d802c6d883a5",
   "metadata": {
    "tags": []
   },
   "source": [
    "# Data Science Tools and Ecosystem"
   ]
  },
  {
   "cell_type": "markdown",
   "id": "2c1ac0e5-053e-4da8-9842-b1c56ec741aa",
   "metadata": {},
   "source": [
    "This Jupyter Notebook summarizes important Data Science Tools and Ecosystem."
   ]
  },
  {
   "cell_type": "markdown",
   "id": "3ef928ba-cfca-4d25-a600-53571ac7f1aa",
   "metadata": {
    "tags": []
   },
   "source": [
    "### **Objectives**\n",
    "1. Being able to identify popular tools (including: langauge, libraries, open source envirnoment) used for Data Science\n",
    "2. Familiarize with markdown operations in Jupyter Notebook or Jupyterlab\n",
    "3. Practice writing basic codes"
   ]
  },
  {
   "cell_type": "markdown",
   "id": "5d9862a7-695f-4b5a-afd8-4cbc77b1cf03",
   "metadata": {},
   "source": [
    "Examples of popular languages used for Data Science includes:\n",
    "1. Python\n",
    "2. Scala\n",
    "3. SQL\n",
    "4. R"
   ]
  },
  {
   "cell_type": "markdown",
   "id": "67a6241d-54a1-43f3-a384-13f4d9b83a71",
   "metadata": {},
   "source": [
    "For Data Science library examples we find:\n",
    "1. Numpy\n",
    "2. Pandas\n",
    "3. Pytorch\n",
    "4. Keras\n",
    "5. Apache Sparks"
   ]
  },
  {
   "cell_type": "markdown",
   "id": "2e9217ab-1dec-4bd9-9bcd-82d5b88f072a",
   "metadata": {},
   "source": [
    "| Data Science Tools |\n",
    "| --- |\n",
    "| Jupyter |\n",
    "| R Studio |\n",
    "| Apache Zeppelin |\n",
    "| Spyder |"
   ]
  },
  {
   "cell_type": "markdown",
   "id": "8765d113-0d0e-47a4-b386-9622ab458822",
   "metadata": {},
   "source": [
    "### Below are arithemic expressions written in Python"
   ]
  },
  {
   "cell_type": "code",
   "execution_count": 1,
   "id": "c009f28e-6cec-45df-a0ed-ec4e32126cee",
   "metadata": {},
   "outputs": [
    {
     "data": {
      "text/plain": [
       "17"
      ]
     },
     "execution_count": 1,
     "metadata": {},
     "output_type": "execute_result"
    }
   ],
   "source": [
    "#below is a code that will print the result of multiplication and addition using integer\n",
    "(3*4)+5"
   ]
  },
  {
   "cell_type": "code",
   "execution_count": 3,
   "id": "7dee714b-3f99-428c-91e9-033f62c4ad17",
   "metadata": {},
   "outputs": [
    {
     "name": "stdout",
     "output_type": "stream",
     "text": [
      "3.3333333333333335\n"
     ]
    }
   ],
   "source": [
    "#the code will convert n minutes to express in hours (in this example we will convert 200 minutes to an expression in hour)\n",
    "minute = 200\n",
    "hour = minute/60\n",
    "print(hour)"
   ]
  },
  {
   "cell_type": "markdown",
   "id": "e8c8aac6-9904-4890-b295-4b89718f848b",
   "metadata": {
    "tags": []
   },
   "source": [
    "## Author\n",
    "Takumi Nishi"
   ]
  }
 ],
 "metadata": {
  "kernelspec": {
   "display_name": "Python 3 (ipykernel)",
   "language": "python",
   "name": "python3"
  },
  "language_info": {
   "codemirror_mode": {
    "name": "ipython",
    "version": 3
   },
   "file_extension": ".py",
   "mimetype": "text/x-python",
   "name": "python",
   "nbconvert_exporter": "python",
   "pygments_lexer": "ipython3",
   "version": "3.9.12"
  }
 },
 "nbformat": 4,
 "nbformat_minor": 5
}
